{
 "cells": [
  {
   "cell_type": "markdown",
   "metadata": {},
   "source": [
    "# Importing the libraries and loading the dataset"
   ]
  },
  {
   "cell_type": "code",
   "execution_count": 1,
   "metadata": {},
   "outputs": [],
   "source": [
    "import pandas as pd\n",
    "import numpy as np\n",
    "import matplotlib.pyplot as plt\n",
    "import seaborn as sns"
   ]
  },
  {
   "cell_type": "code",
   "execution_count": 58,
   "metadata": {},
   "outputs": [],
   "source": [
    "df = pd.read_csv('2024_Accidentalidad.csv', sep=';')"
   ]
  },
  {
   "cell_type": "code",
   "execution_count": 6,
   "metadata": {},
   "outputs": [
    {
     "data": {
      "text/html": [
       "<div>\n",
       "<style scoped>\n",
       "    .dataframe tbody tr th:only-of-type {\n",
       "        vertical-align: middle;\n",
       "    }\n",
       "\n",
       "    .dataframe tbody tr th {\n",
       "        vertical-align: top;\n",
       "    }\n",
       "\n",
       "    .dataframe thead th {\n",
       "        text-align: right;\n",
       "    }\n",
       "</style>\n",
       "<table border=\"1\" class=\"dataframe\">\n",
       "  <thead>\n",
       "    <tr style=\"text-align: right;\">\n",
       "      <th></th>\n",
       "      <th>num_expediente</th>\n",
       "      <th>fecha</th>\n",
       "      <th>hora</th>\n",
       "      <th>localizacion</th>\n",
       "      <th>numero</th>\n",
       "      <th>cod_distrito</th>\n",
       "      <th>distrito</th>\n",
       "      <th>tipo_accidente</th>\n",
       "      <th>estado_meteorológico</th>\n",
       "      <th>tipo_vehiculo</th>\n",
       "      <th>tipo_persona</th>\n",
       "      <th>rango_edad</th>\n",
       "      <th>sexo</th>\n",
       "      <th>cod_lesividad</th>\n",
       "      <th>lesividad</th>\n",
       "      <th>coordenada_x_utm</th>\n",
       "      <th>coordenada_y_utm</th>\n",
       "      <th>positiva_alcohol</th>\n",
       "      <th>positiva_droga</th>\n",
       "    </tr>\n",
       "  </thead>\n",
       "  <tbody>\n",
       "    <tr>\n",
       "      <th>27052</th>\n",
       "      <td>2024S022309</td>\n",
       "      <td>17/07/2024</td>\n",
       "      <td>15:15:00</td>\n",
       "      <td>AUTOV. A-2, +00500E</td>\n",
       "      <td>+00500E</td>\n",
       "      <td>15</td>\n",
       "      <td>CIUDAD LINEAL</td>\n",
       "      <td>Colisión lateral</td>\n",
       "      <td>Despejado</td>\n",
       "      <td>Furgoneta</td>\n",
       "      <td>Pasajero</td>\n",
       "      <td>De 25 a 29 años</td>\n",
       "      <td>Mujer</td>\n",
       "      <td>14.0</td>\n",
       "      <td>Sin asistencia sanitaria</td>\n",
       "      <td>444520.0</td>\n",
       "      <td>4477574.0</td>\n",
       "      <td>N</td>\n",
       "      <td>NaN</td>\n",
       "    </tr>\n",
       "    <tr>\n",
       "      <th>11555</th>\n",
       "      <td>2024S010959</td>\n",
       "      <td>27/03/2024</td>\n",
       "      <td>11:19:00</td>\n",
       "      <td>CALL. ANDRES OBISPO / CALL. AGUSTIN CALVO</td>\n",
       "      <td>20</td>\n",
       "      <td>16</td>\n",
       "      <td>HORTALEZA</td>\n",
       "      <td>Colisión fronto-lateral</td>\n",
       "      <td>Despejado</td>\n",
       "      <td>Turismo</td>\n",
       "      <td>Pasajero</td>\n",
       "      <td>De 60 a 64 años</td>\n",
       "      <td>Mujer</td>\n",
       "      <td>5.0</td>\n",
       "      <td>Asistencia sanitaria ambulatoria con posterior...</td>\n",
       "      <td>445055.0</td>\n",
       "      <td>4479489.0</td>\n",
       "      <td>N</td>\n",
       "      <td>NaN</td>\n",
       "    </tr>\n",
       "    <tr>\n",
       "      <th>7594</th>\n",
       "      <td>2024S007280</td>\n",
       "      <td>27/02/2024</td>\n",
       "      <td>21:50:00</td>\n",
       "      <td>CALL. DOCTOR SEVERO OCHOA, 1</td>\n",
       "      <td>1</td>\n",
       "      <td>9</td>\n",
       "      <td>MONCLOA-ARAVACA</td>\n",
       "      <td>Choque contra obstáculo fijo</td>\n",
       "      <td>NaN</td>\n",
       "      <td>Turismo</td>\n",
       "      <td>Conductor</td>\n",
       "      <td>Desconocido</td>\n",
       "      <td>Desconocido</td>\n",
       "      <td>NaN</td>\n",
       "      <td>NaN</td>\n",
       "      <td>438523.0</td>\n",
       "      <td>4477072.0</td>\n",
       "      <td>N</td>\n",
       "      <td>NaN</td>\n",
       "    </tr>\n",
       "    <tr>\n",
       "      <th>16994</th>\n",
       "      <td>2024S015709</td>\n",
       "      <td>07/05/2024</td>\n",
       "      <td>17:20:00</td>\n",
       "      <td>CALL. REAL DE ARGANDA / AVDA. ENSANCHE DE VALL...</td>\n",
       "      <td>64</td>\n",
       "      <td>18</td>\n",
       "      <td>VILLA DE VALLECAS</td>\n",
       "      <td>Colisión fronto-lateral</td>\n",
       "      <td>Despejado</td>\n",
       "      <td>Turismo</td>\n",
       "      <td>Conductor</td>\n",
       "      <td>De 45 a 49 años</td>\n",
       "      <td>Mujer</td>\n",
       "      <td>14.0</td>\n",
       "      <td>Sin asistencia sanitaria</td>\n",
       "      <td>447887.0</td>\n",
       "      <td>4470047.0</td>\n",
       "      <td>N</td>\n",
       "      <td>NaN</td>\n",
       "    </tr>\n",
       "    <tr>\n",
       "      <th>29896</th>\n",
       "      <td>2024S024098</td>\n",
       "      <td>13/08/2024</td>\n",
       "      <td>15:15:00</td>\n",
       "      <td>CALL. PALOMARES, 6</td>\n",
       "      <td>6</td>\n",
       "      <td>17</td>\n",
       "      <td>VILLAVERDE</td>\n",
       "      <td>Alcance</td>\n",
       "      <td>Despejado</td>\n",
       "      <td>Furgoneta</td>\n",
       "      <td>Conductor</td>\n",
       "      <td>De 35 a 39 años</td>\n",
       "      <td>Hombre</td>\n",
       "      <td>NaN</td>\n",
       "      <td>NaN</td>\n",
       "      <td>439829.0</td>\n",
       "      <td>4466593.0</td>\n",
       "      <td>N</td>\n",
       "      <td>NaN</td>\n",
       "    </tr>\n",
       "  </tbody>\n",
       "</table>\n",
       "</div>"
      ],
      "text/plain": [
       "      num_expediente       fecha      hora  \\\n",
       "27052    2024S022309  17/07/2024  15:15:00   \n",
       "11555    2024S010959  27/03/2024  11:19:00   \n",
       "7594     2024S007280  27/02/2024  21:50:00   \n",
       "16994    2024S015709  07/05/2024  17:20:00   \n",
       "29896    2024S024098  13/08/2024  15:15:00   \n",
       "\n",
       "                                            localizacion   numero  \\\n",
       "27052                                AUTOV. A-2, +00500E  +00500E   \n",
       "11555          CALL. ANDRES OBISPO / CALL. AGUSTIN CALVO       20   \n",
       "7594                        CALL. DOCTOR SEVERO OCHOA, 1        1   \n",
       "16994  CALL. REAL DE ARGANDA / AVDA. ENSANCHE DE VALL...       64   \n",
       "29896                                 CALL. PALOMARES, 6        6   \n",
       "\n",
       "       cod_distrito           distrito                tipo_accidente  \\\n",
       "27052            15      CIUDAD LINEAL              Colisión lateral   \n",
       "11555            16          HORTALEZA       Colisión fronto-lateral   \n",
       "7594              9    MONCLOA-ARAVACA  Choque contra obstáculo fijo   \n",
       "16994            18  VILLA DE VALLECAS       Colisión fronto-lateral   \n",
       "29896            17         VILLAVERDE                       Alcance   \n",
       "\n",
       "      estado_meteorológico tipo_vehiculo tipo_persona       rango_edad  \\\n",
       "27052            Despejado     Furgoneta     Pasajero  De 25 a 29 años   \n",
       "11555            Despejado       Turismo     Pasajero  De 60 a 64 años   \n",
       "7594                   NaN       Turismo    Conductor      Desconocido   \n",
       "16994            Despejado       Turismo    Conductor  De 45 a 49 años   \n",
       "29896            Despejado     Furgoneta    Conductor  De 35 a 39 años   \n",
       "\n",
       "              sexo  cod_lesividad  \\\n",
       "27052        Mujer           14.0   \n",
       "11555        Mujer            5.0   \n",
       "7594   Desconocido            NaN   \n",
       "16994        Mujer           14.0   \n",
       "29896       Hombre            NaN   \n",
       "\n",
       "                                               lesividad  coordenada_x_utm  \\\n",
       "27052                           Sin asistencia sanitaria          444520.0   \n",
       "11555  Asistencia sanitaria ambulatoria con posterior...          445055.0   \n",
       "7594                                                 NaN          438523.0   \n",
       "16994                           Sin asistencia sanitaria          447887.0   \n",
       "29896                                                NaN          439829.0   \n",
       "\n",
       "       coordenada_y_utm positiva_alcohol  positiva_droga  \n",
       "27052         4477574.0                N             NaN  \n",
       "11555         4479489.0                N             NaN  \n",
       "7594          4477072.0                N             NaN  \n",
       "16994         4470047.0                N             NaN  \n",
       "29896         4466593.0                N             NaN  "
      ]
     },
     "execution_count": 6,
     "metadata": {},
     "output_type": "execute_result"
    }
   ],
   "source": [
    "df.sample(5)"
   ]
  },
  {
   "cell_type": "code",
   "execution_count": 12,
   "metadata": {},
   "outputs": [
    {
     "data": {
      "text/plain": [
       "(40165, 19)"
      ]
     },
     "execution_count": 12,
     "metadata": {},
     "output_type": "execute_result"
    }
   ],
   "source": [
    "df.shape"
   ]
  },
  {
   "cell_type": "markdown",
   "metadata": {},
   "source": [
    "# Tarea 1\n",
    "*Realiza un análisis descriptivo del dataset. Analiza la distribución de los datos\n",
    "por cada una de las columnas, realiza los pasos de pre-procesamiento necesarios,\n",
    "justificando adecuadamente las acciones tomadas. Se deberá hacer uso de gráficas para\n",
    "entender los datos y las decisiones adoptadas.*"
   ]
  },
  {
   "cell_type": "markdown",
   "metadata": {},
   "source": [
    "## 1. Preprocess"
   ]
  },
  {
   "cell_type": "markdown",
   "metadata": {},
   "source": [
    "### 1.1. NaN"
   ]
  },
  {
   "cell_type": "code",
   "execution_count": 13,
   "metadata": {},
   "outputs": [],
   "source": [
    "def null_percentage(df, percentage):\n",
    "    null_ratio = {}\n",
    "    for col in df.columns:\n",
    "        ratio = df[col].isna().sum() / len(df) * 100\n",
    "        if ratio > percentage:\n",
    "            null_ratio[col] = ratio\n",
    "           \n",
    "    return null_ratio"
   ]
  },
  {
   "cell_type": "code",
   "execution_count": 15,
   "metadata": {},
   "outputs": [
    {
     "data": {
      "text/plain": [
       "{'tipo_accidente': 0.007469189592929167,\n",
       " 'estado_meteorológico': 11.597161707954687,\n",
       " 'tipo_vehiculo': 0.799203286443421,\n",
       " 'cod_lesividad': 44.38939375077804,\n",
       " 'lesividad': 44.38939375077804,\n",
       " 'coordenada_x_utm': 0.024897298643097227,\n",
       " 'coordenada_y_utm': 0.024897298643097227,\n",
       " 'positiva_alcohol': 0.34358272127474165,\n",
       " 'positiva_droga': 99.57674592306735}"
      ]
     },
     "execution_count": 15,
     "metadata": {},
     "output_type": "execute_result"
    }
   ],
   "source": [
    "null_percentage(df, 0)"
   ]
  },
  {
   "cell_type": "markdown",
   "metadata": {},
   "source": [
    "According to Adrian: \n",
    "- everything that is lower than 10 -> we drop the rows\n",
    "- estado meteorológico -> try to inpute the data\n",
    "- drogas -> drop the column\n",
    "- lesividad -> create a new category to encode the NaNs"
   ]
  },
  {
   "cell_type": "markdown",
   "metadata": {},
   "source": [
    "### 1.2. Redundant data"
   ]
  },
  {
   "cell_type": "markdown",
   "metadata": {},
   "source": [
    "There are two pairs of columns that contain exactly the same information: *distrito* and *cod_distrito* and *lesividad* and *cod_lesividad*.\n",
    "\n",
    "We decided to drop the columns containg names, as the others are already \"encoded\". However, first we will create dictionaries that will facilitate the interpretation of the data. We will also change the codes to numeric values, so that we can use them in later analysis."
   ]
  },
  {
   "cell_type": "markdown",
   "metadata": {},
   "source": [
    "#### 1.2.1. Distrito"
   ]
  },
  {
   "cell_type": "markdown",
   "metadata": {},
   "source": [
    "At first, we have to see if the codes align with the names."
   ]
  },
  {
   "cell_type": "code",
   "execution_count": 17,
   "metadata": {},
   "outputs": [
    {
     "data": {
      "text/plain": [
       "distrito\n",
       "PUENTE DE VALLECAS     3253\n",
       "CHAMARTÍN              2864\n",
       "CARABANCHEL            2862\n",
       "SALAMANCA              2636\n",
       "CIUDAD LINEAL          2448\n",
       "CENTRO                 2254\n",
       "ARGANZUELA             2175\n",
       "FUENCARRAL-EL PARDO    2032\n",
       "RETIRO                 2013\n",
       "MONCLOA-ARAVACA        1990\n",
       "LATINA                 1934\n",
       "TETUÁN                 1894\n",
       "SAN BLAS-CANILLEJAS    1884\n",
       "CHAMBERÍ               1788\n",
       "USERA                  1718\n",
       "HORTALEZA              1473\n",
       "VILLAVERDE             1426\n",
       "MORATALAZ              1093\n",
       "VILLA DE VALLECAS      1046\n",
       "BARAJAS                 711\n",
       "VICÁLVARO               671\n",
       "Name: count, dtype: int64"
      ]
     },
     "execution_count": 17,
     "metadata": {},
     "output_type": "execute_result"
    }
   ],
   "source": [
    "df['distrito'].value_counts()"
   ]
  },
  {
   "cell_type": "code",
   "execution_count": 18,
   "metadata": {},
   "outputs": [
    {
     "data": {
      "text/plain": [
       "cod_distrito\n",
       "13    3253\n",
       "5     2864\n",
       "11    2862\n",
       "4     2636\n",
       "15    2448\n",
       "1     2254\n",
       "2     2175\n",
       "8     2032\n",
       "3     2013\n",
       "9     1990\n",
       "10    1934\n",
       "6     1894\n",
       "20    1884\n",
       "7     1788\n",
       "12    1718\n",
       "16    1473\n",
       "17    1426\n",
       "14    1093\n",
       "18    1046\n",
       "21     711\n",
       "19     671\n",
       "Name: count, dtype: int64"
      ]
     },
     "execution_count": 18,
     "metadata": {},
     "output_type": "execute_result"
    }
   ],
   "source": [
    "df['cod_distrito'].value_counts()"
   ]
  },
  {
   "cell_type": "markdown",
   "metadata": {},
   "source": [
    "We can see that the codes in the *cod_distrito* column are assigned taking into account the city zone, so the distance is preserved. "
   ]
  },
  {
   "cell_type": "markdown",
   "metadata": {},
   "source": [
    "Now, we create the dictionary contaning district names and codes."
   ]
  },
  {
   "cell_type": "code",
   "execution_count": null,
   "metadata": {},
   "outputs": [
    {
     "name": "stdout",
     "output_type": "stream",
     "text": [
      "[16  1  7  6 10  9  3 13 14 11  4  5 19  2  8 12 18 21 17 20 15]\n",
      "['HORTALEZA' 'CENTRO' 'CHAMBERÍ' 'TETUÁN' 'LATINA' 'MONCLOA-ARAVACA'\n",
      " 'RETIRO' 'PUENTE DE VALLECAS' 'MORATALAZ' 'CARABANCHEL' 'SALAMANCA'\n",
      " 'CHAMARTÍN' 'VICÁLVARO' 'ARGANZUELA' 'FUENCARRAL-EL PARDO' 'USERA'\n",
      " 'VILLA DE VALLECAS' 'BARAJAS' 'VILLAVERDE' 'SAN BLAS-CANILLEJAS'\n",
      " 'CIUDAD LINEAL']\n"
     ]
    }
   ],
   "source": [
    "district_keys = df['cod_distrito'].unique()    \n",
    "district_names = df['distrito'].unique()\n",
    "\n",
    "district_dict = dict(zip(district_keys, district_names))\n"
   ]
  },
  {
   "cell_type": "code",
   "execution_count": 37,
   "metadata": {},
   "outputs": [
    {
     "data": {
      "text/plain": [
       "{16: 'HORTALEZA',\n",
       " 1: 'CENTRO',\n",
       " 7: 'CHAMBERÍ',\n",
       " 6: 'TETUÁN',\n",
       " 10: 'LATINA',\n",
       " 9: 'MONCLOA-ARAVACA',\n",
       " 3: 'RETIRO',\n",
       " 13: 'PUENTE DE VALLECAS',\n",
       " 14: 'MORATALAZ',\n",
       " 11: 'CARABANCHEL',\n",
       " 4: 'SALAMANCA',\n",
       " 5: 'CHAMARTÍN',\n",
       " 19: 'VICÁLVARO',\n",
       " 2: 'ARGANZUELA',\n",
       " 8: 'FUENCARRAL-EL PARDO',\n",
       " 12: 'USERA',\n",
       " 18: 'VILLA DE VALLECAS',\n",
       " 21: 'BARAJAS',\n",
       " 17: 'VILLAVERDE',\n",
       " 20: 'SAN BLAS-CANILLEJAS',\n",
       " 15: 'CIUDAD LINEAL'}"
      ]
     },
     "execution_count": 37,
     "metadata": {},
     "output_type": "execute_result"
    }
   ],
   "source": [
    "district_dict"
   ]
  },
  {
   "cell_type": "markdown",
   "metadata": {},
   "source": [
    "Now, we drop the *distrito* column."
   ]
  },
  {
   "cell_type": "code",
   "execution_count": 46,
   "metadata": {},
   "outputs": [],
   "source": [
    "df.drop(['distrito'], axis=1, inplace=True)"
   ]
  },
  {
   "cell_type": "markdown",
   "metadata": {},
   "source": [
    "#### 1.2.2. Lesividad"
   ]
  },
  {
   "cell_type": "markdown",
   "metadata": {},
   "source": [
    "We check, if the values align."
   ]
  },
  {
   "cell_type": "code",
   "execution_count": 21,
   "metadata": {},
   "outputs": [
    {
     "data": {
      "text/plain": [
       "cod_lesividad\n",
       "14.0    13109\n",
       "7.0      4720\n",
       "2.0      1494\n",
       "1.0      1111\n",
       "6.0       950\n",
       "3.0       475\n",
       "5.0       453\n",
       "4.0        24\n",
       "Name: count, dtype: int64"
      ]
     },
     "execution_count": 21,
     "metadata": {},
     "output_type": "execute_result"
    }
   ],
   "source": [
    "df['cod_lesividad'].value_counts()"
   ]
  },
  {
   "cell_type": "code",
   "execution_count": 22,
   "metadata": {},
   "outputs": [
    {
     "data": {
      "text/plain": [
       "lesividad\n",
       "Sin asistencia sanitaria                                     13109\n",
       "Asistencia sanitaria sólo en el lugar del accidente           4720\n",
       "Ingreso inferior o igual a 24 horas                           1494\n",
       "Atención en urgencias sin posterior ingreso                   1111\n",
       "Asistencia sanitaria inmediata en centro de salud o mutua      950\n",
       "Ingreso superior a 24 horas                                    475\n",
       "Asistencia sanitaria ambulatoria con posterioridad             453\n",
       "Fallecido 24 horas                                              24\n",
       "Name: count, dtype: int64"
      ]
     },
     "execution_count": 22,
     "metadata": {},
     "output_type": "execute_result"
    }
   ],
   "source": [
    "df['lesividad'].value_counts()"
   ]
  },
  {
   "cell_type": "code",
   "execution_count": 60,
   "metadata": {},
   "outputs": [
    {
     "data": {
      "text/plain": [
       "(array(['Ingreso inferior o igual a 24 horas', 'Sin asistencia sanitaria',\n",
       "        'Asistencia sanitaria sólo en el lugar del accidente', nan,\n",
       "        'Atención en urgencias sin posterior ingreso',\n",
       "        'Ingreso superior a 24 horas',\n",
       "        'Asistencia sanitaria inmediata en centro de salud o mutua',\n",
       "        'Asistencia sanitaria ambulatoria con posterioridad',\n",
       "        'Fallecido 24 horas'], dtype=object),\n",
       " array([ 2., 14.,  7., nan,  1.,  3.,  6.,  5.,  4.]))"
      ]
     },
     "execution_count": 60,
     "metadata": {},
     "output_type": "execute_result"
    }
   ],
   "source": [
    "df['lesividad'].unique(), df['cod_lesividad'].unique()"
   ]
  },
  {
   "cell_type": "markdown",
   "metadata": {},
   "source": [
    "As we know, those columns containg more than 40% of NaN values.\n",
    "\n",
    "We could treat them as another category and encode them as well, naming it *'sin información'*. Inputing 40% of data uing other 60% does not really make sense. Nor does dropping almost half of the rows. So we decided to use encoding, as it is the most reasonbale option."
   ]
  },
  {
   "cell_type": "markdown",
   "metadata": {},
   "source": [
    "!!!!! Those columns contain null values and, as we are going to hadle them later, we will now create a dictionary that won't contain NaNs."
   ]
  },
  {
   "cell_type": "code",
   "execution_count": null,
   "metadata": {},
   "outputs": [
    {
     "name": "stdout",
     "output_type": "stream",
     "text": [
      "[2.0, 14.0, 7.0, 1.0, 3.0, 6.0, 5.0, 4.0]\n",
      "['Ingreso inferior o igual a 24 horas', 'Sin asistencia sanitaria', 'Asistencia sanitaria sólo en el lugar del accidente', 'Atención en urgencias sin posterior ingreso', 'Ingreso superior a 24 horas', 'Asistencia sanitaria inmediata en centro de salud o mutua', 'Asistencia sanitaria ambulatoria con posterioridad', 'Fallecido 24 horas']\n",
      "{2.0: 'Ingreso inferior o igual a 24 horas', 14.0: 'Sin asistencia sanitaria', 7.0: 'Asistencia sanitaria sólo en el lugar del accidente', 1.0: 'Atención en urgencias sin posterior ingreso', 3.0: 'Ingreso superior a 24 horas', 6.0: 'Asistencia sanitaria inmediata en centro de salud o mutua', 5.0: 'Asistencia sanitaria ambulatoria con posterioridad', 4.0: 'Fallecido 24 horas'}\n"
     ]
    }
   ],
   "source": [
    "# we are going to handle nans later, so we don't include them in the dictionary\n",
    "lesividad_keys = df['cod_lesividad'].dropna().unique().tolist()\n",
    "\n",
    "lesividad_names = df['lesividad'].dropna().unique().tolist()\n",
    "\n",
    "lesividad_dict = dict(zip(lesividad_keys, lesividad_names))\n",
    "print(lesividad_dict)\n"
   ]
  },
  {
   "cell_type": "markdown",
   "metadata": {},
   "source": [
    "Now, we can drop the *lesividad* column."
   ]
  },
  {
   "cell_type": "code",
   "execution_count": 55,
   "metadata": {},
   "outputs": [],
   "source": [
    "df.drop(['lesividad'], axis=1, inplace=True)"
   ]
  },
  {
   "cell_type": "code",
   "execution_count": 24,
   "metadata": {},
   "outputs": [
    {
     "data": {
      "text/html": [
       "<div>\n",
       "<style scoped>\n",
       "    .dataframe tbody tr th:only-of-type {\n",
       "        vertical-align: middle;\n",
       "    }\n",
       "\n",
       "    .dataframe tbody tr th {\n",
       "        vertical-align: top;\n",
       "    }\n",
       "\n",
       "    .dataframe thead th {\n",
       "        text-align: right;\n",
       "    }\n",
       "</style>\n",
       "<table border=\"1\" class=\"dataframe\">\n",
       "  <thead>\n",
       "    <tr style=\"text-align: right;\">\n",
       "      <th></th>\n",
       "      <th>num_expediente</th>\n",
       "      <th>fecha</th>\n",
       "      <th>hora</th>\n",
       "      <th>localizacion</th>\n",
       "      <th>numero</th>\n",
       "      <th>cod_distrito</th>\n",
       "      <th>tipo_accidente</th>\n",
       "      <th>estado_meteorológico</th>\n",
       "      <th>tipo_vehiculo</th>\n",
       "      <th>tipo_persona</th>\n",
       "      <th>rango_edad</th>\n",
       "      <th>sexo</th>\n",
       "      <th>cod_lesividad</th>\n",
       "      <th>coordenada_x_utm</th>\n",
       "      <th>coordenada_y_utm</th>\n",
       "      <th>positiva_alcohol</th>\n",
       "      <th>positiva_droga</th>\n",
       "    </tr>\n",
       "  </thead>\n",
       "  <tbody>\n",
       "    <tr>\n",
       "      <th>36501</th>\n",
       "      <td>2024S028091</td>\n",
       "      <td>07/10/2024</td>\n",
       "      <td>13:10:00</td>\n",
       "      <td>CALL. BUSTAMANTE / CALL. VILLA DEL PRADO</td>\n",
       "      <td>35</td>\n",
       "      <td>2</td>\n",
       "      <td>Colisión lateral</td>\n",
       "      <td>Despejado</td>\n",
       "      <td>Furgoneta</td>\n",
       "      <td>Pasajero</td>\n",
       "      <td>De 50 a 54 años</td>\n",
       "      <td>Hombre</td>\n",
       "      <td>NaN</td>\n",
       "      <td>441737.0</td>\n",
       "      <td>4472434.0</td>\n",
       "      <td>N</td>\n",
       "      <td>NaN</td>\n",
       "    </tr>\n",
       "    <tr>\n",
       "      <th>32178</th>\n",
       "      <td>2024S025554</td>\n",
       "      <td>07/09/2024</td>\n",
       "      <td>10:00:00</td>\n",
       "      <td>CALL. CERRO MINGUETE / CALL. RISCOS DE POLANCO</td>\n",
       "      <td>96</td>\n",
       "      <td>8</td>\n",
       "      <td>Colisión fronto-lateral</td>\n",
       "      <td>Despejado</td>\n",
       "      <td>Turismo</td>\n",
       "      <td>Conductor</td>\n",
       "      <td>De 50 a 54 años</td>\n",
       "      <td>Hombre</td>\n",
       "      <td>14.0</td>\n",
       "      <td>438752.0</td>\n",
       "      <td>4482044.0</td>\n",
       "      <td>N</td>\n",
       "      <td>NaN</td>\n",
       "    </tr>\n",
       "    <tr>\n",
       "      <th>24229</th>\n",
       "      <td>2024S020697</td>\n",
       "      <td>26/06/2024</td>\n",
       "      <td>15:02:00</td>\n",
       "      <td>AVDA. LOGROÑO, 305</td>\n",
       "      <td>305</td>\n",
       "      <td>21</td>\n",
       "      <td>Colisión lateral</td>\n",
       "      <td>Nublado</td>\n",
       "      <td>Turismo</td>\n",
       "      <td>Pasajero</td>\n",
       "      <td>De 25 a 29 años</td>\n",
       "      <td>Mujer</td>\n",
       "      <td>14.0</td>\n",
       "      <td>450684.0</td>\n",
       "      <td>4480075.0</td>\n",
       "      <td>N</td>\n",
       "      <td>NaN</td>\n",
       "    </tr>\n",
       "    <tr>\n",
       "      <th>1236</th>\n",
       "      <td>2024S000920</td>\n",
       "      <td>11/01/2024</td>\n",
       "      <td>16:10:00</td>\n",
       "      <td>CALL. ARTURO SORIA / CALL. CALERUEGA</td>\n",
       "      <td>316</td>\n",
       "      <td>15</td>\n",
       "      <td>Colisión fronto-lateral</td>\n",
       "      <td>Despejado</td>\n",
       "      <td>Turismo</td>\n",
       "      <td>Conductor</td>\n",
       "      <td>De 60 a 64 años</td>\n",
       "      <td>Hombre</td>\n",
       "      <td>14.0</td>\n",
       "      <td>443314.0</td>\n",
       "      <td>4480944.0</td>\n",
       "      <td>N</td>\n",
       "      <td>NaN</td>\n",
       "    </tr>\n",
       "    <tr>\n",
       "      <th>6170</th>\n",
       "      <td>2024S005808</td>\n",
       "      <td>16/02/2024</td>\n",
       "      <td>15:40:00</td>\n",
       "      <td>CALL. ARROYO BUENO / AVDA. REAL DE PINTO</td>\n",
       "      <td>5</td>\n",
       "      <td>17</td>\n",
       "      <td>Alcance</td>\n",
       "      <td>Despejado</td>\n",
       "      <td>Turismo</td>\n",
       "      <td>Conductor</td>\n",
       "      <td>De 60 a 64 años</td>\n",
       "      <td>Hombre</td>\n",
       "      <td>NaN</td>\n",
       "      <td>440037.0</td>\n",
       "      <td>4466761.0</td>\n",
       "      <td>N</td>\n",
       "      <td>NaN</td>\n",
       "    </tr>\n",
       "  </tbody>\n",
       "</table>\n",
       "</div>"
      ],
      "text/plain": [
       "      num_expediente       fecha      hora  \\\n",
       "36501    2024S028091  07/10/2024  13:10:00   \n",
       "32178    2024S025554  07/09/2024  10:00:00   \n",
       "24229    2024S020697  26/06/2024  15:02:00   \n",
       "1236     2024S000920  11/01/2024  16:10:00   \n",
       "6170     2024S005808  16/02/2024  15:40:00   \n",
       "\n",
       "                                         localizacion numero  cod_distrito  \\\n",
       "36501        CALL. BUSTAMANTE / CALL. VILLA DEL PRADO     35             2   \n",
       "32178  CALL. CERRO MINGUETE / CALL. RISCOS DE POLANCO     96             8   \n",
       "24229                              AVDA. LOGROÑO, 305    305            21   \n",
       "1236             CALL. ARTURO SORIA / CALL. CALERUEGA    316            15   \n",
       "6170         CALL. ARROYO BUENO / AVDA. REAL DE PINTO      5            17   \n",
       "\n",
       "                tipo_accidente estado_meteorológico tipo_vehiculo  \\\n",
       "36501         Colisión lateral            Despejado     Furgoneta   \n",
       "32178  Colisión fronto-lateral            Despejado       Turismo   \n",
       "24229         Colisión lateral              Nublado       Turismo   \n",
       "1236   Colisión fronto-lateral            Despejado       Turismo   \n",
       "6170                   Alcance            Despejado       Turismo   \n",
       "\n",
       "      tipo_persona       rango_edad    sexo  cod_lesividad  coordenada_x_utm  \\\n",
       "36501     Pasajero  De 50 a 54 años  Hombre            NaN          441737.0   \n",
       "32178    Conductor  De 50 a 54 años  Hombre           14.0          438752.0   \n",
       "24229     Pasajero  De 25 a 29 años   Mujer           14.0          450684.0   \n",
       "1236     Conductor  De 60 a 64 años  Hombre           14.0          443314.0   \n",
       "6170     Conductor  De 60 a 64 años  Hombre            NaN          440037.0   \n",
       "\n",
       "       coordenada_y_utm positiva_alcohol  positiva_droga  \n",
       "36501         4472434.0                N             NaN  \n",
       "32178         4482044.0                N             NaN  \n",
       "24229         4480075.0                N             NaN  \n",
       "1236          4480944.0                N             NaN  \n",
       "6170          4466761.0                N             NaN  "
      ]
     },
     "execution_count": 24,
     "metadata": {},
     "output_type": "execute_result"
    }
   ],
   "source": [
    "df.sample(5)"
   ]
  },
  {
   "cell_type": "code",
   "execution_count": 25,
   "metadata": {},
   "outputs": [
    {
     "data": {
      "text/plain": [
       "(40165, 17)"
      ]
     },
     "execution_count": 25,
     "metadata": {},
     "output_type": "execute_result"
    }
   ],
   "source": [
    "df.shape"
   ]
  },
  {
   "cell_type": "markdown",
   "metadata": {},
   "source": [
    "We want to check if every ID (*num_expediente* column) corresponds to only one row."
   ]
  },
  {
   "cell_type": "code",
   "execution_count": 27,
   "metadata": {},
   "outputs": [
    {
     "data": {
      "text/plain": [
       "16935"
      ]
     },
     "execution_count": 27,
     "metadata": {},
     "output_type": "execute_result"
    }
   ],
   "source": [
    "len(df['num_expediente'].unique())"
   ]
  },
  {
   "cell_type": "markdown",
   "metadata": {},
   "source": [
    "It is obviously false, as there are usually one there more vehicule/person involved in the accident."
   ]
  },
  {
   "cell_type": "markdown",
   "metadata": {},
   "source": []
  }
 ],
 "metadata": {
  "kernelspec": {
   "display_name": "Python 3",
   "language": "python",
   "name": "python3"
  },
  "language_info": {
   "codemirror_mode": {
    "name": "ipython",
    "version": 3
   },
   "file_extension": ".py",
   "mimetype": "text/x-python",
   "name": "python",
   "nbconvert_exporter": "python",
   "pygments_lexer": "ipython3",
   "version": "3.11.8"
  }
 },
 "nbformat": 4,
 "nbformat_minor": 2
}
