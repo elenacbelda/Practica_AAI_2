{
 "cells": [
  {
   "cell_type": "markdown",
   "metadata": {},
   "source": [
    "# Importing the libraries and loading the dataset"
   ]
  },
  {
   "cell_type": "code",
   "execution_count": 22,
   "metadata": {},
   "outputs": [],
   "source": [
    "import pandas as pd\n",
    "import numpy as np\n",
    "import matplotlib.pyplot as plt\n",
    "import seaborn as sns"
   ]
  },
  {
   "cell_type": "code",
   "execution_count": 23,
   "metadata": {},
   "outputs": [],
   "source": [
    "df = pd.read_csv('2024_Accidentalidad.csv', sep=';')"
   ]
  },
  {
   "cell_type": "code",
   "execution_count": 24,
   "metadata": {},
   "outputs": [
    {
     "data": {
      "text/html": [
       "<div>\n",
       "<style scoped>\n",
       "    .dataframe tbody tr th:only-of-type {\n",
       "        vertical-align: middle;\n",
       "    }\n",
       "\n",
       "    .dataframe tbody tr th {\n",
       "        vertical-align: top;\n",
       "    }\n",
       "\n",
       "    .dataframe thead th {\n",
       "        text-align: right;\n",
       "    }\n",
       "</style>\n",
       "<table border=\"1\" class=\"dataframe\">\n",
       "  <thead>\n",
       "    <tr style=\"text-align: right;\">\n",
       "      <th></th>\n",
       "      <th>num_expediente</th>\n",
       "      <th>fecha</th>\n",
       "      <th>hora</th>\n",
       "      <th>localizacion</th>\n",
       "      <th>numero</th>\n",
       "      <th>cod_distrito</th>\n",
       "      <th>distrito</th>\n",
       "      <th>tipo_accidente</th>\n",
       "      <th>estado_meteorológico</th>\n",
       "      <th>tipo_vehiculo</th>\n",
       "      <th>tipo_persona</th>\n",
       "      <th>rango_edad</th>\n",
       "      <th>sexo</th>\n",
       "      <th>cod_lesividad</th>\n",
       "      <th>lesividad</th>\n",
       "      <th>coordenada_x_utm</th>\n",
       "      <th>coordenada_y_utm</th>\n",
       "      <th>positiva_alcohol</th>\n",
       "      <th>positiva_droga</th>\n",
       "    </tr>\n",
       "  </thead>\n",
       "  <tbody>\n",
       "    <tr>\n",
       "      <th>36433</th>\n",
       "      <td>2024S028044</td>\n",
       "      <td>06/10/2024</td>\n",
       "      <td>22:00:00</td>\n",
       "      <td>AVDA. PABLO NERUDA / AVDA. ALBUFERA</td>\n",
       "      <td>16</td>\n",
       "      <td>13</td>\n",
       "      <td>PUENTE DE VALLECAS</td>\n",
       "      <td>Colisión fronto-lateral</td>\n",
       "      <td>Despejado</td>\n",
       "      <td>Turismo</td>\n",
       "      <td>Pasajero</td>\n",
       "      <td>De 55 a 59 años</td>\n",
       "      <td>Hombre</td>\n",
       "      <td>14.0</td>\n",
       "      <td>Sin asistencia sanitaria</td>\n",
       "      <td>445377.0</td>\n",
       "      <td>4471150.0</td>\n",
       "      <td>N</td>\n",
       "      <td>NaN</td>\n",
       "    </tr>\n",
       "    <tr>\n",
       "      <th>12001</th>\n",
       "      <td>2024S012085</td>\n",
       "      <td>02/04/2024</td>\n",
       "      <td>7:03:00</td>\n",
       "      <td>CALL. SAAVEDRA FAJARDO / GTA. PUENTE DE SEGOVIA</td>\n",
       "      <td>20</td>\n",
       "      <td>10</td>\n",
       "      <td>LATINA</td>\n",
       "      <td>Colisión fronto-lateral</td>\n",
       "      <td>NaN</td>\n",
       "      <td>Turismo</td>\n",
       "      <td>Conductor</td>\n",
       "      <td>De 35 a 39 años</td>\n",
       "      <td>Hombre</td>\n",
       "      <td>NaN</td>\n",
       "      <td>NaN</td>\n",
       "      <td>438491.0</td>\n",
       "      <td>4473956.0</td>\n",
       "      <td>N</td>\n",
       "      <td>NaN</td>\n",
       "    </tr>\n",
       "    <tr>\n",
       "      <th>24220</th>\n",
       "      <td>2024S020695</td>\n",
       "      <td>25/06/2024</td>\n",
       "      <td>18:15:00</td>\n",
       "      <td>CALL. MARQUES DEL RISCAL, 6</td>\n",
       "      <td>6</td>\n",
       "      <td>7</td>\n",
       "      <td>CHAMBERÍ</td>\n",
       "      <td>Alcance</td>\n",
       "      <td>Despejado</td>\n",
       "      <td>Turismo</td>\n",
       "      <td>Conductor</td>\n",
       "      <td>De 65 a 69 años</td>\n",
       "      <td>Mujer</td>\n",
       "      <td>NaN</td>\n",
       "      <td>NaN</td>\n",
       "      <td>441282.0</td>\n",
       "      <td>4475771.0</td>\n",
       "      <td>N</td>\n",
       "      <td>NaN</td>\n",
       "    </tr>\n",
       "    <tr>\n",
       "      <th>8140</th>\n",
       "      <td>2024S007690</td>\n",
       "      <td>02/03/2024</td>\n",
       "      <td>13:05:00</td>\n",
       "      <td>AVDA. NUESTRA SEÑORA DE FATIMA / CALL. EUGENIA...</td>\n",
       "      <td>104</td>\n",
       "      <td>11</td>\n",
       "      <td>CARABANCHEL</td>\n",
       "      <td>Alcance</td>\n",
       "      <td>Lluvia débil</td>\n",
       "      <td>Turismo</td>\n",
       "      <td>Pasajero</td>\n",
       "      <td>De 50 a 54 años</td>\n",
       "      <td>Mujer</td>\n",
       "      <td>14.0</td>\n",
       "      <td>Sin asistencia sanitaria</td>\n",
       "      <td>436447.0</td>\n",
       "      <td>4469994.0</td>\n",
       "      <td>N</td>\n",
       "      <td>NaN</td>\n",
       "    </tr>\n",
       "    <tr>\n",
       "      <th>24291</th>\n",
       "      <td>2024S020736</td>\n",
       "      <td>26/06/2024</td>\n",
       "      <td>19:16:00</td>\n",
       "      <td>CALL. CORAZON DE MARIA / CALL. CARDENAL SILICEO</td>\n",
       "      <td>21</td>\n",
       "      <td>5</td>\n",
       "      <td>CHAMARTÍN</td>\n",
       "      <td>Alcance</td>\n",
       "      <td>Se desconoce</td>\n",
       "      <td>Turismo</td>\n",
       "      <td>Conductor</td>\n",
       "      <td>De 30 a 34 años</td>\n",
       "      <td>Mujer</td>\n",
       "      <td>14.0</td>\n",
       "      <td>Sin asistencia sanitaria</td>\n",
       "      <td>443299.0</td>\n",
       "      <td>4477062.0</td>\n",
       "      <td>N</td>\n",
       "      <td>NaN</td>\n",
       "    </tr>\n",
       "  </tbody>\n",
       "</table>\n",
       "</div>"
      ],
      "text/plain": [
       "      num_expediente       fecha      hora  \\\n",
       "36433    2024S028044  06/10/2024  22:00:00   \n",
       "12001    2024S012085  02/04/2024   7:03:00   \n",
       "24220    2024S020695  25/06/2024  18:15:00   \n",
       "8140     2024S007690  02/03/2024  13:05:00   \n",
       "24291    2024S020736  26/06/2024  19:16:00   \n",
       "\n",
       "                                            localizacion numero  cod_distrito  \\\n",
       "36433                AVDA. PABLO NERUDA / AVDA. ALBUFERA     16            13   \n",
       "12001    CALL. SAAVEDRA FAJARDO / GTA. PUENTE DE SEGOVIA     20            10   \n",
       "24220                        CALL. MARQUES DEL RISCAL, 6      6             7   \n",
       "8140   AVDA. NUESTRA SEÑORA DE FATIMA / CALL. EUGENIA...    104            11   \n",
       "24291    CALL. CORAZON DE MARIA / CALL. CARDENAL SILICEO     21             5   \n",
       "\n",
       "                 distrito           tipo_accidente estado_meteorológico  \\\n",
       "36433  PUENTE DE VALLECAS  Colisión fronto-lateral            Despejado   \n",
       "12001              LATINA  Colisión fronto-lateral                  NaN   \n",
       "24220            CHAMBERÍ                  Alcance            Despejado   \n",
       "8140          CARABANCHEL                  Alcance         Lluvia débil   \n",
       "24291           CHAMARTÍN                  Alcance         Se desconoce   \n",
       "\n",
       "      tipo_vehiculo tipo_persona       rango_edad    sexo  cod_lesividad  \\\n",
       "36433       Turismo     Pasajero  De 55 a 59 años  Hombre           14.0   \n",
       "12001       Turismo    Conductor  De 35 a 39 años  Hombre            NaN   \n",
       "24220       Turismo    Conductor  De 65 a 69 años   Mujer            NaN   \n",
       "8140        Turismo     Pasajero  De 50 a 54 años   Mujer           14.0   \n",
       "24291       Turismo    Conductor  De 30 a 34 años   Mujer           14.0   \n",
       "\n",
       "                      lesividad  coordenada_x_utm  coordenada_y_utm  \\\n",
       "36433  Sin asistencia sanitaria          445377.0         4471150.0   \n",
       "12001                       NaN          438491.0         4473956.0   \n",
       "24220                       NaN          441282.0         4475771.0   \n",
       "8140   Sin asistencia sanitaria          436447.0         4469994.0   \n",
       "24291  Sin asistencia sanitaria          443299.0         4477062.0   \n",
       "\n",
       "      positiva_alcohol  positiva_droga  \n",
       "36433                N             NaN  \n",
       "12001                N             NaN  \n",
       "24220                N             NaN  \n",
       "8140                 N             NaN  \n",
       "24291                N             NaN  "
      ]
     },
     "execution_count": 24,
     "metadata": {},
     "output_type": "execute_result"
    }
   ],
   "source": [
    "df.sample(5)"
   ]
  },
  {
   "cell_type": "code",
   "execution_count": 25,
   "metadata": {},
   "outputs": [
    {
     "data": {
      "text/plain": [
       "(40165, 19)"
      ]
     },
     "execution_count": 25,
     "metadata": {},
     "output_type": "execute_result"
    }
   ],
   "source": [
    "df.shape"
   ]
  },
  {
   "cell_type": "markdown",
   "metadata": {},
   "source": [
    "# Tarea 1\n",
    "*Realiza un análisis descriptivo del dataset. Analiza la distribución de los datos\n",
    "por cada una de las columnas, realiza los pasos de pre-procesamiento necesarios,\n",
    "justificando adecuadamente las acciones tomadas. Se deberá hacer uso de gráficas para\n",
    "entender los datos y las decisiones adoptadas.*"
   ]
  },
  {
   "cell_type": "markdown",
   "metadata": {},
   "source": [
    "## 1. Preprocess"
   ]
  },
  {
   "cell_type": "markdown",
   "metadata": {},
   "source": [
    "### 1.1. NaN"
   ]
  },
  {
   "cell_type": "code",
   "execution_count": 26,
   "metadata": {},
   "outputs": [],
   "source": [
    "def null_percentage(df, percentage):\n",
    "    null_ratio = {}\n",
    "    for col in df.columns:\n",
    "        ratio = df[col].isna().sum() / len(df) * 100\n",
    "        if ratio > percentage:\n",
    "            null_ratio[col] = ratio\n",
    "           \n",
    "    return null_ratio"
   ]
  },
  {
   "cell_type": "code",
   "execution_count": 76,
   "metadata": {},
   "outputs": [
    {
     "data": {
      "text/plain": [
       "{'tipo_accidente': 0.0024903498941601294,\n",
       " 'estado_meteorológico': 11.595069107209563,\n",
       " 'tipo_vehiculo': 0.7994023160254016,\n",
       " 'positiva_alcohol': 0.3436682853940979}"
      ]
     },
     "execution_count": 76,
     "metadata": {},
     "output_type": "execute_result"
    }
   ],
   "source": [
    "null_percentage(df, 0)"
   ]
  },
  {
   "cell_type": "markdown",
   "metadata": {},
   "source": [
    "According to Adrian: \n",
    "- everything that is lower than 10 -> we drop the rows\n",
    "- estado meteorológico -> try to inpute the data\n",
    "\n",
    "accidente, coordenadas,  -> eliminar filas\n",
    "tipo vehiculo -> cambiar NaN por 'Sin especificar'\n",
    "estado mete -> input"
   ]
  },
  {
   "cell_type": "markdown",
   "metadata": {},
   "source": [
    "#### 1.1.1. Cooridinates"
   ]
  },
  {
   "cell_type": "markdown",
   "metadata": {},
   "source": [
    "As coordinates and adress give the same information, we decided that it makes more sense to only keep the coordinates, because they are more specific, preserve the information about the distance and are numeric values.\n",
    "\n",
    "We will drop *localizacion* and *numero* columns. We decided to keep the *distrito* column, as it gives more iformation than just an adress."
   ]
  },
  {
   "cell_type": "markdown",
   "metadata": {},
   "source": [
    "We can see that the percentage of NaNs is excacly the same for *x* and *y* coordinates. Anyway, we will check if it is always true that lack of one of the coordinates implies the lack of the other."
   ]
  },
  {
   "cell_type": "code",
   "execution_count": 66,
   "metadata": {},
   "outputs": [
    {
     "data": {
      "text/html": [
       "<div>\n",
       "<style scoped>\n",
       "    .dataframe tbody tr th:only-of-type {\n",
       "        vertical-align: middle;\n",
       "    }\n",
       "\n",
       "    .dataframe tbody tr th {\n",
       "        vertical-align: top;\n",
       "    }\n",
       "\n",
       "    .dataframe thead th {\n",
       "        text-align: right;\n",
       "    }\n",
       "</style>\n",
       "<table border=\"1\" class=\"dataframe\">\n",
       "  <thead>\n",
       "    <tr style=\"text-align: right;\">\n",
       "      <th></th>\n",
       "      <th>num_expediente</th>\n",
       "      <th>fecha</th>\n",
       "      <th>hora</th>\n",
       "      <th>localizacion</th>\n",
       "      <th>numero</th>\n",
       "      <th>cod_distrito</th>\n",
       "      <th>tipo_accidente</th>\n",
       "      <th>estado_meteorológico</th>\n",
       "      <th>tipo_vehiculo</th>\n",
       "      <th>tipo_persona</th>\n",
       "      <th>rango_edad</th>\n",
       "      <th>sexo</th>\n",
       "      <th>cod_lesividad</th>\n",
       "      <th>coordenada_x_utm</th>\n",
       "      <th>coordenada_y_utm</th>\n",
       "      <th>positiva_alcohol</th>\n",
       "    </tr>\n",
       "  </thead>\n",
       "  <tbody>\n",
       "    <tr>\n",
       "      <th>34485</th>\n",
       "      <td>2024S026886</td>\n",
       "      <td>24/09/2024</td>\n",
       "      <td>2:05:00</td>\n",
       "      <td>PASEO. CASTELLANA / CALL. HERMANOS PINZON</td>\n",
       "      <td>124</td>\n",
       "      <td>5</td>\n",
       "      <td>Alcance</td>\n",
       "      <td>Despejado</td>\n",
       "      <td>Turismo</td>\n",
       "      <td>Conductor</td>\n",
       "      <td>De 35 a 39 años</td>\n",
       "      <td>Hombre</td>\n",
       "      <td>14.0</td>\n",
       "      <td>NaN</td>\n",
       "      <td>NaN</td>\n",
       "      <td>N</td>\n",
       "    </tr>\n",
       "    <tr>\n",
       "      <th>34486</th>\n",
       "      <td>2024S026886</td>\n",
       "      <td>24/09/2024</td>\n",
       "      <td>2:05:00</td>\n",
       "      <td>PASEO. CASTELLANA / CALL. HERMANOS PINZON</td>\n",
       "      <td>124</td>\n",
       "      <td>5</td>\n",
       "      <td>Alcance</td>\n",
       "      <td>Despejado</td>\n",
       "      <td>Turismo</td>\n",
       "      <td>Pasajero</td>\n",
       "      <td>De 40 a 44 años</td>\n",
       "      <td>Mujer</td>\n",
       "      <td>6.0</td>\n",
       "      <td>NaN</td>\n",
       "      <td>NaN</td>\n",
       "      <td>N</td>\n",
       "    </tr>\n",
       "    <tr>\n",
       "      <th>39263</th>\n",
       "      <td>2024S029749</td>\n",
       "      <td>25/10/2024</td>\n",
       "      <td>23:30:00</td>\n",
       "      <td>PASEO. RECOLETOS, 21</td>\n",
       "      <td>21</td>\n",
       "      <td>1</td>\n",
       "      <td>Caída</td>\n",
       "      <td>Despejado</td>\n",
       "      <td>VMU eléctrico</td>\n",
       "      <td>Conductor</td>\n",
       "      <td>De 50 a 54 años</td>\n",
       "      <td>Hombre</td>\n",
       "      <td>3.0</td>\n",
       "      <td>NaN</td>\n",
       "      <td>NaN</td>\n",
       "      <td>N</td>\n",
       "    </tr>\n",
       "    <tr>\n",
       "      <th>39388</th>\n",
       "      <td>2024S029842</td>\n",
       "      <td>27/10/2024</td>\n",
       "      <td>1:40:00</td>\n",
       "      <td>CALL. EMBAJADORES, CAJA MAGICA</td>\n",
       "      <td>480</td>\n",
       "      <td>13</td>\n",
       "      <td>Colisión frontal</td>\n",
       "      <td>Despejado</td>\n",
       "      <td>Turismo</td>\n",
       "      <td>Conductor</td>\n",
       "      <td>De 21 a 24 años</td>\n",
       "      <td>Hombre</td>\n",
       "      <td>14.0</td>\n",
       "      <td>NaN</td>\n",
       "      <td>NaN</td>\n",
       "      <td>N</td>\n",
       "    </tr>\n",
       "    <tr>\n",
       "      <th>39389</th>\n",
       "      <td>2024S029842</td>\n",
       "      <td>27/10/2024</td>\n",
       "      <td>1:40:00</td>\n",
       "      <td>CALL. EMBAJADORES, CAJA MAGICA</td>\n",
       "      <td>480</td>\n",
       "      <td>13</td>\n",
       "      <td>Colisión frontal</td>\n",
       "      <td>Despejado</td>\n",
       "      <td>Turismo</td>\n",
       "      <td>Pasajero</td>\n",
       "      <td>De 45 a 49 años</td>\n",
       "      <td>Mujer</td>\n",
       "      <td>2.0</td>\n",
       "      <td>NaN</td>\n",
       "      <td>NaN</td>\n",
       "      <td>N</td>\n",
       "    </tr>\n",
       "    <tr>\n",
       "      <th>39390</th>\n",
       "      <td>2024S029842</td>\n",
       "      <td>27/10/2024</td>\n",
       "      <td>1:40:00</td>\n",
       "      <td>CALL. EMBAJADORES, CAJA MAGICA</td>\n",
       "      <td>480</td>\n",
       "      <td>13</td>\n",
       "      <td>Colisión frontal</td>\n",
       "      <td>Despejado</td>\n",
       "      <td>Turismo</td>\n",
       "      <td>Pasajero</td>\n",
       "      <td>De 50 a 54 años</td>\n",
       "      <td>Hombre</td>\n",
       "      <td>2.0</td>\n",
       "      <td>NaN</td>\n",
       "      <td>NaN</td>\n",
       "      <td>N</td>\n",
       "    </tr>\n",
       "    <tr>\n",
       "      <th>39391</th>\n",
       "      <td>2024S029842</td>\n",
       "      <td>27/10/2024</td>\n",
       "      <td>1:40:00</td>\n",
       "      <td>CALL. EMBAJADORES, CAJA MAGICA</td>\n",
       "      <td>480</td>\n",
       "      <td>13</td>\n",
       "      <td>Colisión frontal</td>\n",
       "      <td>Despejado</td>\n",
       "      <td>Turismo</td>\n",
       "      <td>Pasajero</td>\n",
       "      <td>De 50 a 54 años</td>\n",
       "      <td>Mujer</td>\n",
       "      <td>2.0</td>\n",
       "      <td>NaN</td>\n",
       "      <td>NaN</td>\n",
       "      <td>N</td>\n",
       "    </tr>\n",
       "    <tr>\n",
       "      <th>39531</th>\n",
       "      <td>2024S029936</td>\n",
       "      <td>28/10/2024</td>\n",
       "      <td>9:15:00</td>\n",
       "      <td>CALL. DIVINO PASTOR / CALL. RUIZ</td>\n",
       "      <td>23</td>\n",
       "      <td>1</td>\n",
       "      <td>Atropello a animal</td>\n",
       "      <td>Despejado</td>\n",
       "      <td>Turismo</td>\n",
       "      <td>Conductor</td>\n",
       "      <td>Desconocido</td>\n",
       "      <td>Desconocido</td>\n",
       "      <td>0.0</td>\n",
       "      <td>NaN</td>\n",
       "      <td>NaN</td>\n",
       "      <td>N</td>\n",
       "    </tr>\n",
       "    <tr>\n",
       "      <th>39767</th>\n",
       "      <td>2024S030072</td>\n",
       "      <td>29/10/2024</td>\n",
       "      <td>21:20:00</td>\n",
       "      <td>CALL. GASOMETRO, 8A</td>\n",
       "      <td>8A</td>\n",
       "      <td>2</td>\n",
       "      <td>NaN</td>\n",
       "      <td>NaN</td>\n",
       "      <td>Motocicleta &gt; 125cc</td>\n",
       "      <td>Conductor</td>\n",
       "      <td>De 18 a 20 años</td>\n",
       "      <td>Hombre</td>\n",
       "      <td>7.0</td>\n",
       "      <td>NaN</td>\n",
       "      <td>NaN</td>\n",
       "      <td>N</td>\n",
       "    </tr>\n",
       "    <tr>\n",
       "      <th>39768</th>\n",
       "      <td>2024S030072</td>\n",
       "      <td>29/10/2024</td>\n",
       "      <td>21:20:00</td>\n",
       "      <td>CALL. GASOMETRO, 8A</td>\n",
       "      <td>8A</td>\n",
       "      <td>2</td>\n",
       "      <td>NaN</td>\n",
       "      <td>NaN</td>\n",
       "      <td>Turismo</td>\n",
       "      <td>Conductor</td>\n",
       "      <td>De 45 a 49 años</td>\n",
       "      <td>Hombre</td>\n",
       "      <td>0.0</td>\n",
       "      <td>NaN</td>\n",
       "      <td>NaN</td>\n",
       "      <td>N</td>\n",
       "    </tr>\n",
       "  </tbody>\n",
       "</table>\n",
       "</div>"
      ],
      "text/plain": [
       "      num_expediente       fecha      hora  \\\n",
       "34485    2024S026886  24/09/2024   2:05:00   \n",
       "34486    2024S026886  24/09/2024   2:05:00   \n",
       "39263    2024S029749  25/10/2024  23:30:00   \n",
       "39388    2024S029842  27/10/2024   1:40:00   \n",
       "39389    2024S029842  27/10/2024   1:40:00   \n",
       "39390    2024S029842  27/10/2024   1:40:00   \n",
       "39391    2024S029842  27/10/2024   1:40:00   \n",
       "39531    2024S029936  28/10/2024   9:15:00   \n",
       "39767    2024S030072  29/10/2024  21:20:00   \n",
       "39768    2024S030072  29/10/2024  21:20:00   \n",
       "\n",
       "                                    localizacion numero  cod_distrito  \\\n",
       "34485  PASEO. CASTELLANA / CALL. HERMANOS PINZON    124             5   \n",
       "34486  PASEO. CASTELLANA / CALL. HERMANOS PINZON    124             5   \n",
       "39263                       PASEO. RECOLETOS, 21     21             1   \n",
       "39388             CALL. EMBAJADORES, CAJA MAGICA    480            13   \n",
       "39389             CALL. EMBAJADORES, CAJA MAGICA    480            13   \n",
       "39390             CALL. EMBAJADORES, CAJA MAGICA    480            13   \n",
       "39391             CALL. EMBAJADORES, CAJA MAGICA    480            13   \n",
       "39531           CALL. DIVINO PASTOR / CALL. RUIZ     23             1   \n",
       "39767                        CALL. GASOMETRO, 8A     8A             2   \n",
       "39768                        CALL. GASOMETRO, 8A     8A             2   \n",
       "\n",
       "           tipo_accidente estado_meteorológico        tipo_vehiculo  \\\n",
       "34485             Alcance            Despejado              Turismo   \n",
       "34486             Alcance            Despejado              Turismo   \n",
       "39263               Caída            Despejado        VMU eléctrico   \n",
       "39388    Colisión frontal            Despejado              Turismo   \n",
       "39389    Colisión frontal            Despejado              Turismo   \n",
       "39390    Colisión frontal            Despejado              Turismo   \n",
       "39391    Colisión frontal            Despejado              Turismo   \n",
       "39531  Atropello a animal            Despejado              Turismo   \n",
       "39767                 NaN                  NaN  Motocicleta > 125cc   \n",
       "39768                 NaN                  NaN              Turismo   \n",
       "\n",
       "      tipo_persona       rango_edad         sexo  cod_lesividad  \\\n",
       "34485    Conductor  De 35 a 39 años       Hombre           14.0   \n",
       "34486     Pasajero  De 40 a 44 años        Mujer            6.0   \n",
       "39263    Conductor  De 50 a 54 años       Hombre            3.0   \n",
       "39388    Conductor  De 21 a 24 años       Hombre           14.0   \n",
       "39389     Pasajero  De 45 a 49 años        Mujer            2.0   \n",
       "39390     Pasajero  De 50 a 54 años       Hombre            2.0   \n",
       "39391     Pasajero  De 50 a 54 años        Mujer            2.0   \n",
       "39531    Conductor      Desconocido  Desconocido            0.0   \n",
       "39767    Conductor  De 18 a 20 años       Hombre            7.0   \n",
       "39768    Conductor  De 45 a 49 años       Hombre            0.0   \n",
       "\n",
       "       coordenada_x_utm  coordenada_y_utm positiva_alcohol  \n",
       "34485               NaN               NaN                N  \n",
       "34486               NaN               NaN                N  \n",
       "39263               NaN               NaN                N  \n",
       "39388               NaN               NaN                N  \n",
       "39389               NaN               NaN                N  \n",
       "39390               NaN               NaN                N  \n",
       "39391               NaN               NaN                N  \n",
       "39531               NaN               NaN                N  \n",
       "39767               NaN               NaN                N  \n",
       "39768               NaN               NaN                N  "
      ]
     },
     "execution_count": 66,
     "metadata": {},
     "output_type": "execute_result"
    }
   ],
   "source": [
    "df[(df['coordenada_x_utm'].isna() == True) & (df['coordenada_y_utm'].isna() == True)]"
   ]
  },
  {
   "cell_type": "markdown",
   "metadata": {},
   "source": [
    "It looks like our hipotesis is right, but we will also check the numbers."
   ]
  },
  {
   "cell_type": "code",
   "execution_count": 69,
   "metadata": {},
   "outputs": [
    {
     "data": {
      "text/plain": [
       "10"
      ]
     },
     "execution_count": 69,
     "metadata": {},
     "output_type": "execute_result"
    }
   ],
   "source": [
    "len_1 = len(df[(df['coordenada_x_utm'].isna() == True) & (df['coordenada_y_utm'].isna() == True)])\n",
    "len_1"
   ]
  },
  {
   "cell_type": "code",
   "execution_count": 71,
   "metadata": {},
   "outputs": [
    {
     "data": {
      "text/plain": [
       "10.0"
      ]
     },
     "execution_count": 71,
     "metadata": {},
     "output_type": "execute_result"
    }
   ],
   "source": [
    "len_2 = 0.024897298643097227/100 * len(df)\n",
    "len_2"
   ]
  },
  {
   "cell_type": "markdown",
   "metadata": {},
   "source": [
    "Everything aligns, so now we can drop the rows that are missing the coordinates. There are just a few, so it will not affect our analysis."
   ]
  },
  {
   "cell_type": "code",
   "execution_count": null,
   "metadata": {},
   "outputs": [],
   "source": [
    "df = df.dropna(subset=['coordenada_x_utm', 'coordenada_y_utm'])"
   ]
  },
  {
   "cell_type": "markdown",
   "metadata": {},
   "source": [
    "#### 1.1.2. Drugs"
   ]
  },
  {
   "cell_type": "markdown",
   "metadata": {},
   "source": [
    "Column containg data about drug influence seems to be very important, especially when we are analysing the car accidents. However, it contains more than 99.5% of NaN values, so it does not give us any information. Inputing the data would make the column completely artificial. "
   ]
  },
  {
   "cell_type": "code",
   "execution_count": 54,
   "metadata": {},
   "outputs": [
    {
     "data": {
      "text/plain": [
       "positiva_droga\n",
       "1.0    170\n",
       "Name: count, dtype: int64"
      ]
     },
     "execution_count": 54,
     "metadata": {},
     "output_type": "execute_result"
    }
   ],
   "source": [
    "df['positiva_droga'].value_counts()"
   ]
  },
  {
   "cell_type": "markdown",
   "metadata": {},
   "source": [
    "We can see that there are only 170 positive values in the column, whereas the others are NaNs."
   ]
  },
  {
   "cell_type": "markdown",
   "metadata": {},
   "source": [
    "We will drop the column for now, but in later analysis we will see if inputing the data will improve the results."
   ]
  },
  {
   "cell_type": "code",
   "execution_count": 56,
   "metadata": {},
   "outputs": [],
   "source": [
    "df.drop(columns=['positiva_droga'], inplace=True)"
   ]
  },
  {
   "cell_type": "markdown",
   "metadata": {},
   "source": [
    "#### 1.1.3. Vehicle -> para pegar"
   ]
  },
  {
   "cell_type": "markdown",
   "metadata": {},
   "source": [
    "#### 1.1.4. Accident type -> para pegar"
   ]
  },
  {
   "cell_type": "markdown",
   "metadata": {},
   "source": [
    "#### 1.1.5. Alcohol"
   ]
  },
  {
   "cell_type": "markdown",
   "metadata": {},
   "source": [
    "At frist, we will see how many missing values we have."
   ]
  },
  {
   "cell_type": "code",
   "execution_count": 86,
   "metadata": {},
   "outputs": [
    {
     "data": {
      "text/plain": [
       "138"
      ]
     },
     "execution_count": 86,
     "metadata": {},
     "output_type": "execute_result"
    }
   ],
   "source": [
    "len(df[df['positiva_alcohol'].isna() == True])"
   ]
  },
  {
   "cell_type": "markdown",
   "metadata": {},
   "source": [
    "As we know in one accident there are more than just one car involved. We will check if the missing data belongs to only a few accidents or if each of them has a different *num_expediente* value. The latter will obviously make things more complicated."
   ]
  },
  {
   "cell_type": "code",
   "execution_count": 87,
   "metadata": {},
   "outputs": [
    {
     "data": {
      "text/plain": [
       "138"
      ]
     },
     "execution_count": 87,
     "metadata": {},
     "output_type": "execute_result"
    }
   ],
   "source": [
    "len(df['num_expediente'][df['positiva_alcohol'].isna() == True].unique())"
   ]
  },
  {
   "cell_type": "markdown",
   "metadata": {},
   "source": [
    "It looks, like there is as many accidents as missing values. We cannot reaaly drop those rows, because they are instances of different accident. If we delete the row containng data about one of the crushed cars, we are also loosing data for another participants of the accident."
   ]
  },
  {
   "cell_type": "markdown",
   "metadata": {},
   "source": [
    "We can check if the type of person is always a vehicle conductor. It could appear that the person is a child or a passanger. In this case the value of *positiva_alcohol* would not affect the data."
   ]
  },
  {
   "cell_type": "code",
   "execution_count": 96,
   "metadata": {},
   "outputs": [
    {
     "data": {
      "text/html": [
       "<div>\n",
       "<style scoped>\n",
       "    .dataframe tbody tr th:only-of-type {\n",
       "        vertical-align: middle;\n",
       "    }\n",
       "\n",
       "    .dataframe tbody tr th {\n",
       "        vertical-align: top;\n",
       "    }\n",
       "\n",
       "    .dataframe thead th {\n",
       "        text-align: right;\n",
       "    }\n",
       "</style>\n",
       "<table border=\"1\" class=\"dataframe\">\n",
       "  <thead>\n",
       "    <tr style=\"text-align: right;\">\n",
       "      <th></th>\n",
       "      <th>num_expediente</th>\n",
       "      <th>fecha</th>\n",
       "      <th>hora</th>\n",
       "      <th>cod_distrito</th>\n",
       "      <th>tipo_accidente</th>\n",
       "      <th>estado_meteorológico</th>\n",
       "      <th>tipo_vehiculo</th>\n",
       "      <th>tipo_persona</th>\n",
       "      <th>rango_edad</th>\n",
       "      <th>sexo</th>\n",
       "      <th>cod_lesividad</th>\n",
       "      <th>coordenada_x_utm</th>\n",
       "      <th>coordenada_y_utm</th>\n",
       "      <th>positiva_alcohol</th>\n",
       "    </tr>\n",
       "  </thead>\n",
       "  <tbody>\n",
       "  </tbody>\n",
       "</table>\n",
       "</div>"
      ],
      "text/plain": [
       "Empty DataFrame\n",
       "Columns: [num_expediente, fecha, hora, cod_distrito, tipo_accidente, estado_meteorológico, tipo_vehiculo, tipo_persona, rango_edad, sexo, cod_lesividad, coordenada_x_utm, coordenada_y_utm, positiva_alcohol]\n",
       "Index: []"
      ]
     },
     "execution_count": 96,
     "metadata": {},
     "output_type": "execute_result"
    }
   ],
   "source": [
    "# print the rows where the person is not a driver and alhocol is nan\n",
    "df[(df['tipo_persona'] != 'Conductor') & (df['positiva_alcohol'].isna() == True)]"
   ]
  },
  {
   "cell_type": "markdown",
   "metadata": {},
   "source": [
    "Unfortunatelly, it seems that the only people we are lacking information for are the drivers. That will not help us. "
   ]
  },
  {
   "cell_type": "markdown",
   "metadata": {},
   "source": [
    "After analysing the case, we decided to ytake a risk and have 138 rows with inputed data. That may results in bad classification, but we do not have other choice. As stated earlier, we cannot drop the rows, as they are a \"part\" of a whole another accident. "
   ]
  },
  {
   "cell_type": "markdown",
   "metadata": {},
   "source": [
    "\n",
    "**Decission:** Finally, we decided to treat empty values as False ('N'), meaning no influence of alcohol."
   ]
  },
  {
   "cell_type": "code",
   "execution_count": 97,
   "metadata": {},
   "outputs": [
    {
     "name": "stderr",
     "output_type": "stream",
     "text": [
      "C:\\Users\\48726\\AppData\\Local\\Temp\\ipykernel_2352\\2019537947.py:1: SettingWithCopyWarning: \n",
      "A value is trying to be set on a copy of a slice from a DataFrame\n",
      "\n",
      "See the caveats in the documentation: https://pandas.pydata.org/pandas-docs/stable/user_guide/indexing.html#returning-a-view-versus-a-copy\n",
      "  df['positiva_alcohol'].fillna('N', inplace=True)\n"
     ]
    }
   ],
   "source": [
    "df['positiva_alcohol'].fillna('N', inplace=True)"
   ]
  },
  {
   "cell_type": "markdown",
   "metadata": {},
   "source": [
    "### 1.2. Redundant data"
   ]
  },
  {
   "cell_type": "markdown",
   "metadata": {},
   "source": [
    "There are two pairs of columns that contain exactly the same information: *distrito* and *cod_distrito* and *lesividad* and *cod_lesividad*.\n",
    "\n",
    "We decided to drop the columns containg names, as the others are already \"encoded\". However, first we will create dictionaries that will facilitate the interpretation of the data. We will also change the codes to numeric values, so that we can use them in later analysis."
   ]
  },
  {
   "cell_type": "markdown",
   "metadata": {},
   "source": [
    "#### 1.2.1. Distrito"
   ]
  },
  {
   "cell_type": "markdown",
   "metadata": {},
   "source": [
    "At first, we have to see if the codes align with the names."
   ]
  },
  {
   "cell_type": "code",
   "execution_count": 28,
   "metadata": {},
   "outputs": [
    {
     "data": {
      "text/plain": [
       "distrito\n",
       "PUENTE DE VALLECAS     3253\n",
       "CHAMARTÍN              2864\n",
       "CARABANCHEL            2862\n",
       "SALAMANCA              2636\n",
       "CIUDAD LINEAL          2448\n",
       "CENTRO                 2254\n",
       "ARGANZUELA             2175\n",
       "FUENCARRAL-EL PARDO    2032\n",
       "RETIRO                 2013\n",
       "MONCLOA-ARAVACA        1990\n",
       "LATINA                 1934\n",
       "TETUÁN                 1894\n",
       "SAN BLAS-CANILLEJAS    1884\n",
       "CHAMBERÍ               1788\n",
       "USERA                  1718\n",
       "HORTALEZA              1473\n",
       "VILLAVERDE             1426\n",
       "MORATALAZ              1093\n",
       "VILLA DE VALLECAS      1046\n",
       "BARAJAS                 711\n",
       "VICÁLVARO               671\n",
       "Name: count, dtype: int64"
      ]
     },
     "execution_count": 28,
     "metadata": {},
     "output_type": "execute_result"
    }
   ],
   "source": [
    "df['distrito'].value_counts()"
   ]
  },
  {
   "cell_type": "code",
   "execution_count": 29,
   "metadata": {},
   "outputs": [
    {
     "data": {
      "text/plain": [
       "cod_distrito\n",
       "13    3253\n",
       "5     2864\n",
       "11    2862\n",
       "4     2636\n",
       "15    2448\n",
       "1     2254\n",
       "2     2175\n",
       "8     2032\n",
       "3     2013\n",
       "9     1990\n",
       "10    1934\n",
       "6     1894\n",
       "20    1884\n",
       "7     1788\n",
       "12    1718\n",
       "16    1473\n",
       "17    1426\n",
       "14    1093\n",
       "18    1046\n",
       "21     711\n",
       "19     671\n",
       "Name: count, dtype: int64"
      ]
     },
     "execution_count": 29,
     "metadata": {},
     "output_type": "execute_result"
    }
   ],
   "source": [
    "df['cod_distrito'].value_counts()"
   ]
  },
  {
   "cell_type": "markdown",
   "metadata": {},
   "source": [
    "We can see that the codes in the *cod_distrito* column are assigned taking into account the city zone, so the distance is preserved. "
   ]
  },
  {
   "cell_type": "markdown",
   "metadata": {},
   "source": [
    "Now, we create the dictionary contaning district names and codes."
   ]
  },
  {
   "cell_type": "code",
   "execution_count": 30,
   "metadata": {},
   "outputs": [],
   "source": [
    "district_keys = df['cod_distrito'].unique()    \n",
    "district_names = df['distrito'].unique()\n",
    "\n",
    "district_dict = dict(zip(district_keys, district_names))\n"
   ]
  },
  {
   "cell_type": "code",
   "execution_count": 31,
   "metadata": {},
   "outputs": [
    {
     "data": {
      "text/plain": [
       "{16: 'HORTALEZA',\n",
       " 1: 'CENTRO',\n",
       " 7: 'CHAMBERÍ',\n",
       " 6: 'TETUÁN',\n",
       " 10: 'LATINA',\n",
       " 9: 'MONCLOA-ARAVACA',\n",
       " 3: 'RETIRO',\n",
       " 13: 'PUENTE DE VALLECAS',\n",
       " 14: 'MORATALAZ',\n",
       " 11: 'CARABANCHEL',\n",
       " 4: 'SALAMANCA',\n",
       " 5: 'CHAMARTÍN',\n",
       " 19: 'VICÁLVARO',\n",
       " 2: 'ARGANZUELA',\n",
       " 8: 'FUENCARRAL-EL PARDO',\n",
       " 12: 'USERA',\n",
       " 18: 'VILLA DE VALLECAS',\n",
       " 21: 'BARAJAS',\n",
       " 17: 'VILLAVERDE',\n",
       " 20: 'SAN BLAS-CANILLEJAS',\n",
       " 15: 'CIUDAD LINEAL'}"
      ]
     },
     "execution_count": 31,
     "metadata": {},
     "output_type": "execute_result"
    }
   ],
   "source": [
    "district_dict"
   ]
  },
  {
   "cell_type": "markdown",
   "metadata": {},
   "source": [
    "Now, we drop the *distrito* column."
   ]
  },
  {
   "cell_type": "code",
   "execution_count": 32,
   "metadata": {},
   "outputs": [],
   "source": [
    "df.drop(['distrito'], axis=1, inplace=True)"
   ]
  },
  {
   "cell_type": "markdown",
   "metadata": {},
   "source": [
    "#### 1.2.2. Lesividad"
   ]
  },
  {
   "cell_type": "markdown",
   "metadata": {},
   "source": [
    "We check, if the values align."
   ]
  },
  {
   "cell_type": "code",
   "execution_count": 33,
   "metadata": {},
   "outputs": [
    {
     "data": {
      "text/plain": [
       "cod_lesividad\n",
       "14.0    13109\n",
       "7.0      4720\n",
       "2.0      1494\n",
       "1.0      1111\n",
       "6.0       950\n",
       "3.0       475\n",
       "5.0       453\n",
       "4.0        24\n",
       "Name: count, dtype: int64"
      ]
     },
     "execution_count": 33,
     "metadata": {},
     "output_type": "execute_result"
    }
   ],
   "source": [
    "df['cod_lesividad'].value_counts()"
   ]
  },
  {
   "cell_type": "code",
   "execution_count": 34,
   "metadata": {},
   "outputs": [
    {
     "data": {
      "text/plain": [
       "lesividad\n",
       "Sin asistencia sanitaria                                     13109\n",
       "Asistencia sanitaria sólo en el lugar del accidente           4720\n",
       "Ingreso inferior o igual a 24 horas                           1494\n",
       "Atención en urgencias sin posterior ingreso                   1111\n",
       "Asistencia sanitaria inmediata en centro de salud o mutua      950\n",
       "Ingreso superior a 24 horas                                    475\n",
       "Asistencia sanitaria ambulatoria con posterioridad             453\n",
       "Fallecido 24 horas                                              24\n",
       "Name: count, dtype: int64"
      ]
     },
     "execution_count": 34,
     "metadata": {},
     "output_type": "execute_result"
    }
   ],
   "source": [
    "df['lesividad'].value_counts()"
   ]
  },
  {
   "cell_type": "code",
   "execution_count": 35,
   "metadata": {},
   "outputs": [
    {
     "data": {
      "text/plain": [
       "(array(['Ingreso inferior o igual a 24 horas', 'Sin asistencia sanitaria',\n",
       "        'Asistencia sanitaria sólo en el lugar del accidente', nan,\n",
       "        'Atención en urgencias sin posterior ingreso',\n",
       "        'Ingreso superior a 24 horas',\n",
       "        'Asistencia sanitaria inmediata en centro de salud o mutua',\n",
       "        'Asistencia sanitaria ambulatoria con posterioridad',\n",
       "        'Fallecido 24 horas'], dtype=object),\n",
       " array([ 2., 14.,  7., nan,  1.,  3.,  6.,  5.,  4.]))"
      ]
     },
     "execution_count": 35,
     "metadata": {},
     "output_type": "execute_result"
    }
   ],
   "source": [
    "df['lesividad'].unique(), df['cod_lesividad'].unique()"
   ]
  },
  {
   "cell_type": "markdown",
   "metadata": {},
   "source": [
    "As we know, those columns containg more than 40% of NaN values.\n",
    "\n",
    "We could treat them as another category and encode them as well, naming it *'Desconocido'*. Inputing 40% of data uing other 60% does not really make sense. Nor does dropping almost half of the rows. So we decided to use encoding, as it is the most reasonbale option."
   ]
  },
  {
   "cell_type": "markdown",
   "metadata": {},
   "source": [
    "At first, we use *.fillna()* on those two columns, so that we can use the new values in our dictionary."
   ]
  },
  {
   "cell_type": "code",
   "execution_count": 95,
   "metadata": {},
   "outputs": [
    {
     "name": "stderr",
     "output_type": "stream",
     "text": [
      "C:\\Users\\48726\\AppData\\Local\\Temp\\ipykernel_2352\\3214936209.py:1: FutureWarning: A value is trying to be set on a copy of a DataFrame or Series through chained assignment using an inplace method.\n",
      "The behavior will change in pandas 3.0. This inplace method will never work because the intermediate object on which we are setting values always behaves as a copy.\n",
      "\n",
      "For example, when doing 'df[col].method(value, inplace=True)', try using 'df.method({col: value}, inplace=True)' or df[col] = df[col].method(value) instead, to perform the operation inplace on the original object.\n",
      "\n",
      "\n",
      "  df['cod_lesividad'].fillna(0, inplace=True)\n",
      "C:\\Users\\48726\\AppData\\Local\\Temp\\ipykernel_2352\\3214936209.py:1: SettingWithCopyWarning: \n",
      "A value is trying to be set on a copy of a slice from a DataFrame\n",
      "\n",
      "See the caveats in the documentation: https://pandas.pydata.org/pandas-docs/stable/user_guide/indexing.html#returning-a-view-versus-a-copy\n",
      "  df['cod_lesividad'].fillna(0, inplace=True)\n"
     ]
    },
    {
     "ename": "KeyError",
     "evalue": "'lesividad'",
     "output_type": "error",
     "traceback": [
      "\u001b[1;31m---------------------------------------------------------------------------\u001b[0m",
      "\u001b[1;31mKeyError\u001b[0m                                  Traceback (most recent call last)",
      "File \u001b[1;32mc:\\Users\\48726\\AppData\\Local\\Programs\\Python\\Python311\\Lib\\site-packages\\pandas\\core\\indexes\\base.py:3805\u001b[0m, in \u001b[0;36mIndex.get_loc\u001b[1;34m(self, key)\u001b[0m\n\u001b[0;32m   3804\u001b[0m \u001b[38;5;28;01mtry\u001b[39;00m:\n\u001b[1;32m-> 3805\u001b[0m     \u001b[38;5;28;01mreturn\u001b[39;00m \u001b[38;5;28;43mself\u001b[39;49m\u001b[38;5;241;43m.\u001b[39;49m\u001b[43m_engine\u001b[49m\u001b[38;5;241;43m.\u001b[39;49m\u001b[43mget_loc\u001b[49m\u001b[43m(\u001b[49m\u001b[43mcasted_key\u001b[49m\u001b[43m)\u001b[49m\n\u001b[0;32m   3806\u001b[0m \u001b[38;5;28;01mexcept\u001b[39;00m \u001b[38;5;167;01mKeyError\u001b[39;00m \u001b[38;5;28;01mas\u001b[39;00m err:\n",
      "File \u001b[1;32mindex.pyx:167\u001b[0m, in \u001b[0;36mpandas._libs.index.IndexEngine.get_loc\u001b[1;34m()\u001b[0m\n",
      "File \u001b[1;32mindex.pyx:196\u001b[0m, in \u001b[0;36mpandas._libs.index.IndexEngine.get_loc\u001b[1;34m()\u001b[0m\n",
      "File \u001b[1;32mpandas\\\\_libs\\\\hashtable_class_helper.pxi:7081\u001b[0m, in \u001b[0;36mpandas._libs.hashtable.PyObjectHashTable.get_item\u001b[1;34m()\u001b[0m\n",
      "File \u001b[1;32mpandas\\\\_libs\\\\hashtable_class_helper.pxi:7089\u001b[0m, in \u001b[0;36mpandas._libs.hashtable.PyObjectHashTable.get_item\u001b[1;34m()\u001b[0m\n",
      "\u001b[1;31mKeyError\u001b[0m: 'lesividad'",
      "\nThe above exception was the direct cause of the following exception:\n",
      "\u001b[1;31mKeyError\u001b[0m                                  Traceback (most recent call last)",
      "Cell \u001b[1;32mIn[95], line 2\u001b[0m\n\u001b[0;32m      1\u001b[0m df[\u001b[38;5;124m'\u001b[39m\u001b[38;5;124mcod_lesividad\u001b[39m\u001b[38;5;124m'\u001b[39m]\u001b[38;5;241m.\u001b[39mfillna(\u001b[38;5;241m0\u001b[39m, inplace\u001b[38;5;241m=\u001b[39m\u001b[38;5;28;01mTrue\u001b[39;00m)\n\u001b[1;32m----> 2\u001b[0m \u001b[43mdf\u001b[49m\u001b[43m[\u001b[49m\u001b[38;5;124;43m'\u001b[39;49m\u001b[38;5;124;43mlesividad\u001b[39;49m\u001b[38;5;124;43m'\u001b[39;49m\u001b[43m]\u001b[49m\u001b[38;5;241m.\u001b[39mfillna(\u001b[38;5;124m'\u001b[39m\u001b[38;5;124mSin especificar\u001b[39m\u001b[38;5;124m'\u001b[39m, inplace\u001b[38;5;241m=\u001b[39m\u001b[38;5;28;01mTrue\u001b[39;00m)\n",
      "File \u001b[1;32mc:\\Users\\48726\\AppData\\Local\\Programs\\Python\\Python311\\Lib\\site-packages\\pandas\\core\\frame.py:4090\u001b[0m, in \u001b[0;36mDataFrame.__getitem__\u001b[1;34m(self, key)\u001b[0m\n\u001b[0;32m   4088\u001b[0m \u001b[38;5;28;01mif\u001b[39;00m \u001b[38;5;28mself\u001b[39m\u001b[38;5;241m.\u001b[39mcolumns\u001b[38;5;241m.\u001b[39mnlevels \u001b[38;5;241m>\u001b[39m \u001b[38;5;241m1\u001b[39m:\n\u001b[0;32m   4089\u001b[0m     \u001b[38;5;28;01mreturn\u001b[39;00m \u001b[38;5;28mself\u001b[39m\u001b[38;5;241m.\u001b[39m_getitem_multilevel(key)\n\u001b[1;32m-> 4090\u001b[0m indexer \u001b[38;5;241m=\u001b[39m \u001b[38;5;28;43mself\u001b[39;49m\u001b[38;5;241;43m.\u001b[39;49m\u001b[43mcolumns\u001b[49m\u001b[38;5;241;43m.\u001b[39;49m\u001b[43mget_loc\u001b[49m\u001b[43m(\u001b[49m\u001b[43mkey\u001b[49m\u001b[43m)\u001b[49m\n\u001b[0;32m   4091\u001b[0m \u001b[38;5;28;01mif\u001b[39;00m is_integer(indexer):\n\u001b[0;32m   4092\u001b[0m     indexer \u001b[38;5;241m=\u001b[39m [indexer]\n",
      "File \u001b[1;32mc:\\Users\\48726\\AppData\\Local\\Programs\\Python\\Python311\\Lib\\site-packages\\pandas\\core\\indexes\\base.py:3812\u001b[0m, in \u001b[0;36mIndex.get_loc\u001b[1;34m(self, key)\u001b[0m\n\u001b[0;32m   3807\u001b[0m     \u001b[38;5;28;01mif\u001b[39;00m \u001b[38;5;28misinstance\u001b[39m(casted_key, \u001b[38;5;28mslice\u001b[39m) \u001b[38;5;129;01mor\u001b[39;00m (\n\u001b[0;32m   3808\u001b[0m         \u001b[38;5;28misinstance\u001b[39m(casted_key, abc\u001b[38;5;241m.\u001b[39mIterable)\n\u001b[0;32m   3809\u001b[0m         \u001b[38;5;129;01mand\u001b[39;00m \u001b[38;5;28many\u001b[39m(\u001b[38;5;28misinstance\u001b[39m(x, \u001b[38;5;28mslice\u001b[39m) \u001b[38;5;28;01mfor\u001b[39;00m x \u001b[38;5;129;01min\u001b[39;00m casted_key)\n\u001b[0;32m   3810\u001b[0m     ):\n\u001b[0;32m   3811\u001b[0m         \u001b[38;5;28;01mraise\u001b[39;00m InvalidIndexError(key)\n\u001b[1;32m-> 3812\u001b[0m     \u001b[38;5;28;01mraise\u001b[39;00m \u001b[38;5;167;01mKeyError\u001b[39;00m(key) \u001b[38;5;28;01mfrom\u001b[39;00m \u001b[38;5;21;01merr\u001b[39;00m\n\u001b[0;32m   3813\u001b[0m \u001b[38;5;28;01mexcept\u001b[39;00m \u001b[38;5;167;01mTypeError\u001b[39;00m:\n\u001b[0;32m   3814\u001b[0m     \u001b[38;5;66;03m# If we have a listlike key, _check_indexing_error will raise\u001b[39;00m\n\u001b[0;32m   3815\u001b[0m     \u001b[38;5;66;03m#  InvalidIndexError. Otherwise we fall through and re-raise\u001b[39;00m\n\u001b[0;32m   3816\u001b[0m     \u001b[38;5;66;03m#  the TypeError.\u001b[39;00m\n\u001b[0;32m   3817\u001b[0m     \u001b[38;5;28mself\u001b[39m\u001b[38;5;241m.\u001b[39m_check_indexing_error(key)\n",
      "\u001b[1;31mKeyError\u001b[0m: 'lesividad'"
     ]
    }
   ],
   "source": [
    "df['cod_lesividad'].fillna(0, inplace=True)\n",
    "df['lesividad'].fillna('Sin especificar', inplace=True)"
   ]
  },
  {
   "cell_type": "code",
   "execution_count": 47,
   "metadata": {},
   "outputs": [],
   "source": [
    "lesividad_keys = df['cod_lesividad'].unique()    \n",
    "lesividad_names = df['lesividad'].unique()\n",
    "\n",
    "lesividad_dict = dict(zip(lesividad_keys, lesividad_names))\n"
   ]
  },
  {
   "cell_type": "markdown",
   "metadata": {},
   "source": [
    "We check the results."
   ]
  },
  {
   "cell_type": "code",
   "execution_count": 45,
   "metadata": {},
   "outputs": [
    {
     "data": {
      "text/plain": [
       "{2.0: 'Ingreso inferior o igual a 24 horas',\n",
       " 14.0: 'Sin asistencia sanitaria',\n",
       " 7.0: 'Asistencia sanitaria sólo en el lugar del accidente',\n",
       " 0.0: 'Desconocido',\n",
       " 1.0: 'Atención en urgencias sin posterior ingreso',\n",
       " 3.0: 'Ingreso superior a 24 horas',\n",
       " 6.0: 'Asistencia sanitaria inmediata en centro de salud o mutua',\n",
       " 5.0: 'Asistencia sanitaria ambulatoria con posterioridad',\n",
       " 4.0: 'Fallecido 24 horas'}"
      ]
     },
     "execution_count": 45,
     "metadata": {},
     "output_type": "execute_result"
    }
   ],
   "source": [
    "lesividad_dict"
   ]
  },
  {
   "cell_type": "markdown",
   "metadata": {},
   "source": [
    "Now, we can drop the *lesividad* column."
   ]
  },
  {
   "cell_type": "code",
   "execution_count": 49,
   "metadata": {},
   "outputs": [],
   "source": [
    "df.drop(['lesividad'], axis=1, inplace=True)"
   ]
  },
  {
   "cell_type": "code",
   "execution_count": 50,
   "metadata": {},
   "outputs": [
    {
     "data": {
      "text/html": [
       "<div>\n",
       "<style scoped>\n",
       "    .dataframe tbody tr th:only-of-type {\n",
       "        vertical-align: middle;\n",
       "    }\n",
       "\n",
       "    .dataframe tbody tr th {\n",
       "        vertical-align: top;\n",
       "    }\n",
       "\n",
       "    .dataframe thead th {\n",
       "        text-align: right;\n",
       "    }\n",
       "</style>\n",
       "<table border=\"1\" class=\"dataframe\">\n",
       "  <thead>\n",
       "    <tr style=\"text-align: right;\">\n",
       "      <th></th>\n",
       "      <th>num_expediente</th>\n",
       "      <th>fecha</th>\n",
       "      <th>hora</th>\n",
       "      <th>localizacion</th>\n",
       "      <th>numero</th>\n",
       "      <th>cod_distrito</th>\n",
       "      <th>tipo_accidente</th>\n",
       "      <th>estado_meteorológico</th>\n",
       "      <th>tipo_vehiculo</th>\n",
       "      <th>tipo_persona</th>\n",
       "      <th>rango_edad</th>\n",
       "      <th>sexo</th>\n",
       "      <th>cod_lesividad</th>\n",
       "      <th>coordenada_x_utm</th>\n",
       "      <th>coordenada_y_utm</th>\n",
       "      <th>positiva_alcohol</th>\n",
       "      <th>positiva_droga</th>\n",
       "    </tr>\n",
       "  </thead>\n",
       "  <tbody>\n",
       "    <tr>\n",
       "      <th>16171</th>\n",
       "      <td>2024S015132</td>\n",
       "      <td>30/04/2024</td>\n",
       "      <td>18:15:00</td>\n",
       "      <td>CALL. SAN BERNARDO, 42</td>\n",
       "      <td>42</td>\n",
       "      <td>1</td>\n",
       "      <td>Alcance</td>\n",
       "      <td>NaN</td>\n",
       "      <td>Motocicleta &gt; 125cc</td>\n",
       "      <td>Conductor</td>\n",
       "      <td>De 65 a 69 años</td>\n",
       "      <td>Hombre</td>\n",
       "      <td>0.0</td>\n",
       "      <td>439993.0</td>\n",
       "      <td>4475076.0</td>\n",
       "      <td>N</td>\n",
       "      <td>NaN</td>\n",
       "    </tr>\n",
       "    <tr>\n",
       "      <th>16241</th>\n",
       "      <td>2024S015170</td>\n",
       "      <td>01/05/2024</td>\n",
       "      <td>1:40:00</td>\n",
       "      <td>CALL. ARCOS DE JALON, 70</td>\n",
       "      <td>70</td>\n",
       "      <td>20</td>\n",
       "      <td>Choque contra obstáculo fijo</td>\n",
       "      <td>Despejado</td>\n",
       "      <td>Turismo</td>\n",
       "      <td>Conductor</td>\n",
       "      <td>Desconocido</td>\n",
       "      <td>Desconocido</td>\n",
       "      <td>0.0</td>\n",
       "      <td>447669.0</td>\n",
       "      <td>4474817.0</td>\n",
       "      <td>N</td>\n",
       "      <td>NaN</td>\n",
       "    </tr>\n",
       "    <tr>\n",
       "      <th>34463</th>\n",
       "      <td>2024S026872</td>\n",
       "      <td>23/09/2024</td>\n",
       "      <td>19:35:00</td>\n",
       "      <td>CALL. SERRANO / AVDA. CONCHA ESPINA</td>\n",
       "      <td>199</td>\n",
       "      <td>5</td>\n",
       "      <td>Colisión fronto-lateral</td>\n",
       "      <td>Nublado</td>\n",
       "      <td>Turismo</td>\n",
       "      <td>Pasajero</td>\n",
       "      <td>De 55 a 59 años</td>\n",
       "      <td>Mujer</td>\n",
       "      <td>14.0</td>\n",
       "      <td>442226.0</td>\n",
       "      <td>4478116.0</td>\n",
       "      <td>N</td>\n",
       "      <td>NaN</td>\n",
       "    </tr>\n",
       "    <tr>\n",
       "      <th>22534</th>\n",
       "      <td>2024S019651</td>\n",
       "      <td>13/06/2024</td>\n",
       "      <td>18:28:00</td>\n",
       "      <td>CALL. CALESAS / CALL. MIRASIERRA</td>\n",
       "      <td>13</td>\n",
       "      <td>12</td>\n",
       "      <td>Choque contra obstáculo fijo</td>\n",
       "      <td>NaN</td>\n",
       "      <td>Furgoneta</td>\n",
       "      <td>Conductor</td>\n",
       "      <td>Desconocido</td>\n",
       "      <td>Desconocido</td>\n",
       "      <td>0.0</td>\n",
       "      <td>440126.0</td>\n",
       "      <td>4471254.0</td>\n",
       "      <td>N</td>\n",
       "      <td>NaN</td>\n",
       "    </tr>\n",
       "    <tr>\n",
       "      <th>23627</th>\n",
       "      <td>2024S020337</td>\n",
       "      <td>21/06/2024</td>\n",
       "      <td>14:35:00</td>\n",
       "      <td>CALL. RAIMUNDO FERNANDEZ VILLAVERDE / CALL. MO...</td>\n",
       "      <td>15</td>\n",
       "      <td>6</td>\n",
       "      <td>Colisión lateral</td>\n",
       "      <td>Despejado</td>\n",
       "      <td>Turismo</td>\n",
       "      <td>Conductor</td>\n",
       "      <td>Desconocido</td>\n",
       "      <td>Desconocido</td>\n",
       "      <td>0.0</td>\n",
       "      <td>441003.0</td>\n",
       "      <td>4477529.0</td>\n",
       "      <td>N</td>\n",
       "      <td>NaN</td>\n",
       "    </tr>\n",
       "  </tbody>\n",
       "</table>\n",
       "</div>"
      ],
      "text/plain": [
       "      num_expediente       fecha      hora  \\\n",
       "16171    2024S015132  30/04/2024  18:15:00   \n",
       "16241    2024S015170  01/05/2024   1:40:00   \n",
       "34463    2024S026872  23/09/2024  19:35:00   \n",
       "22534    2024S019651  13/06/2024  18:28:00   \n",
       "23627    2024S020337  21/06/2024  14:35:00   \n",
       "\n",
       "                                            localizacion numero  cod_distrito  \\\n",
       "16171                             CALL. SAN BERNARDO, 42     42             1   \n",
       "16241                           CALL. ARCOS DE JALON, 70     70            20   \n",
       "34463                CALL. SERRANO / AVDA. CONCHA ESPINA    199             5   \n",
       "22534                   CALL. CALESAS / CALL. MIRASIERRA     13            12   \n",
       "23627  CALL. RAIMUNDO FERNANDEZ VILLAVERDE / CALL. MO...     15             6   \n",
       "\n",
       "                     tipo_accidente estado_meteorológico        tipo_vehiculo  \\\n",
       "16171                       Alcance                  NaN  Motocicleta > 125cc   \n",
       "16241  Choque contra obstáculo fijo            Despejado              Turismo   \n",
       "34463       Colisión fronto-lateral              Nublado              Turismo   \n",
       "22534  Choque contra obstáculo fijo                  NaN            Furgoneta   \n",
       "23627              Colisión lateral            Despejado              Turismo   \n",
       "\n",
       "      tipo_persona       rango_edad         sexo  cod_lesividad  \\\n",
       "16171    Conductor  De 65 a 69 años       Hombre            0.0   \n",
       "16241    Conductor      Desconocido  Desconocido            0.0   \n",
       "34463     Pasajero  De 55 a 59 años        Mujer           14.0   \n",
       "22534    Conductor      Desconocido  Desconocido            0.0   \n",
       "23627    Conductor      Desconocido  Desconocido            0.0   \n",
       "\n",
       "       coordenada_x_utm  coordenada_y_utm positiva_alcohol  positiva_droga  \n",
       "16171          439993.0         4475076.0                N             NaN  \n",
       "16241          447669.0         4474817.0                N             NaN  \n",
       "34463          442226.0         4478116.0                N             NaN  \n",
       "22534          440126.0         4471254.0                N             NaN  \n",
       "23627          441003.0         4477529.0                N             NaN  "
      ]
     },
     "execution_count": 50,
     "metadata": {},
     "output_type": "execute_result"
    }
   ],
   "source": [
    "df.sample(5)"
   ]
  },
  {
   "cell_type": "code",
   "execution_count": 51,
   "metadata": {},
   "outputs": [
    {
     "data": {
      "text/plain": [
       "(40165, 17)"
      ]
     },
     "execution_count": 51,
     "metadata": {},
     "output_type": "execute_result"
    }
   ],
   "source": [
    "df.shape"
   ]
  },
  {
   "cell_type": "markdown",
   "metadata": {},
   "source": [
    "#### 1.2.3. Localización"
   ]
  },
  {
   "cell_type": "markdown",
   "metadata": {},
   "source": [
    "As stated earlier, *localizacion* and *numero* columns are redundant, so we will drop them directly."
   ]
  },
  {
   "cell_type": "code",
   "execution_count": 74,
   "metadata": {},
   "outputs": [
    {
     "name": "stderr",
     "output_type": "stream",
     "text": [
      "C:\\Users\\48726\\AppData\\Local\\Temp\\ipykernel_2352\\2735048898.py:1: SettingWithCopyWarning: \n",
      "A value is trying to be set on a copy of a slice from a DataFrame\n",
      "\n",
      "See the caveats in the documentation: https://pandas.pydata.org/pandas-docs/stable/user_guide/indexing.html#returning-a-view-versus-a-copy\n",
      "  df.drop(['localizacion', 'numero'], axis=1, inplace=True)\n"
     ]
    }
   ],
   "source": [
    "df.drop(['localizacion', 'numero'], axis=1, inplace=True)"
   ]
  },
  {
   "cell_type": "code",
   "execution_count": 75,
   "metadata": {},
   "outputs": [
    {
     "data": {
      "text/plain": [
       "(40155, 14)"
      ]
     },
     "execution_count": 75,
     "metadata": {},
     "output_type": "execute_result"
    }
   ],
   "source": [
    "df.shape"
   ]
  },
  {
   "cell_type": "markdown",
   "metadata": {},
   "source": [
    "## 1.3. Datetime columns -> para pegar"
   ]
  },
  {
   "cell_type": "markdown",
   "metadata": {},
   "source": [
    "## 1.4. Encoding -> para pegar??"
   ]
  },
  {
   "cell_type": "markdown",
   "metadata": {},
   "source": [
    "## otro"
   ]
  },
  {
   "cell_type": "markdown",
   "metadata": {},
   "source": [
    "We want to check if every ID (*num_expediente* column) corresponds to only one row."
   ]
  },
  {
   "cell_type": "code",
   "execution_count": 52,
   "metadata": {},
   "outputs": [
    {
     "data": {
      "text/plain": [
       "16935"
      ]
     },
     "execution_count": 52,
     "metadata": {},
     "output_type": "execute_result"
    }
   ],
   "source": [
    "len(df['num_expediente'].unique())"
   ]
  },
  {
   "cell_type": "markdown",
   "metadata": {},
   "source": [
    "It is obviously false, as there are usually one there more vehicule/person involved in the accident."
   ]
  }
 ],
 "metadata": {
  "kernelspec": {
   "display_name": "Python 3",
   "language": "python",
   "name": "python3"
  },
  "language_info": {
   "codemirror_mode": {
    "name": "ipython",
    "version": 3
   },
   "file_extension": ".py",
   "mimetype": "text/x-python",
   "name": "python",
   "nbconvert_exporter": "python",
   "pygments_lexer": "ipython3",
   "version": "3.11.8"
  }
 },
 "nbformat": 4,
 "nbformat_minor": 2
}
